{
 "cells": [
  {
   "cell_type": "code",
   "execution_count": 3,
   "metadata": {},
   "outputs": [],
   "source": [
    "import psycopg2\n",
    "import os"
   ]
  },
  {
   "cell_type": "code",
   "execution_count": 4,
   "metadata": {},
   "outputs": [
    {
     "data": {
      "text/plain": [
       "'seanreed1'"
      ]
     },
     "execution_count": 4,
     "metadata": {},
     "output_type": "execute_result"
    }
   ],
   "source": [
    "os.getlogin()"
   ]
  },
  {
   "cell_type": "code",
   "execution_count": 5,
   "metadata": {},
   "outputs": [
    {
     "data": {
      "text/plain": [
       "['BINARY',\n",
       " 'Binary',\n",
       " 'DATETIME',\n",
       " 'DataError',\n",
       " 'DatabaseError',\n",
       " 'Date',\n",
       " 'DateFromTicks',\n",
       " 'Error',\n",
       " 'IntegrityError',\n",
       " 'InterfaceError',\n",
       " 'InternalError',\n",
       " 'NUMBER',\n",
       " 'NotSupportedError',\n",
       " 'OperationalError',\n",
       " 'ProgrammingError',\n",
       " 'ROWID',\n",
       " 'STRING',\n",
       " 'Time',\n",
       " 'TimeFromTicks',\n",
       " 'Timestamp',\n",
       " 'TimestampFromTicks',\n",
       " 'Warning',\n",
       " '__builtins__',\n",
       " '__cached__',\n",
       " '__doc__',\n",
       " '__file__',\n",
       " '__libpq_version__',\n",
       " '__loader__',\n",
       " '__name__',\n",
       " '__package__',\n",
       " '__path__',\n",
       " '__spec__',\n",
       " '__version__',\n",
       " '_connect',\n",
       " '_ext',\n",
       " '_json',\n",
       " '_psycopg',\n",
       " '_range',\n",
       " 'apilevel',\n",
       " 'compat',\n",
       " 'connect',\n",
       " 'errors',\n",
       " 'extensions',\n",
       " 'paramstyle',\n",
       " 'threadsafety',\n",
       " 'tz']"
      ]
     },
     "execution_count": 5,
     "metadata": {},
     "output_type": "execute_result"
    }
   ],
   "source": [
    "dir(psycopg2)"
   ]
  },
  {
   "cell_type": "code",
   "execution_count": 6,
   "metadata": {},
   "outputs": [],
   "source": [
    "def create_server_connection(database, user):\n",
    "    conn = None\n",
    "    \n",
    "    try:\n",
    "        conn = psycopg2.connect(\n",
    "            database=database,\n",
    "            user=user,\n",
    "        )\n",
    "        print(f\"Connected to Database {database} successfully\")\n",
    "        \n",
    "    except Exception as e:\n",
    "        print(e)\n",
    "\n",
    "    return conn"
   ]
  },
  {
   "cell_type": "code",
   "execution_count": 7,
   "metadata": {},
   "outputs": [
    {
     "name": "stdout",
     "output_type": "stream",
     "text": [
      "Connected to Database jupyterdb successfully\n"
     ]
    }
   ],
   "source": [
    "conn = create_server_connection(database=\"jupyterdb\", user=\"jupyteruser\")"
   ]
  },
  {
   "cell_type": "code",
   "execution_count": 8,
   "metadata": {},
   "outputs": [
    {
     "name": "stdout",
     "output_type": "stream",
     "text": [
      "FATAL:  database \"jupyterdbFAILFAILFAIL\" does not exist\n",
      "\n"
     ]
    }
   ],
   "source": [
    "conn_fail = create_server_connection(database=\"jupyterdbFAILFAILFAIL\", user=\"jupyteruser\")"
   ]
  },
  {
   "cell_type": "code",
   "execution_count": null,
   "metadata": {},
   "outputs": [],
   "source": []
  },
  {
   "cell_type": "code",
   "execution_count": null,
   "metadata": {},
   "outputs": [],
   "source": []
  },
  {
   "cell_type": "code",
   "execution_count": 22,
   "metadata": {},
   "outputs": [],
   "source": [
    "conn = psycopg2.connect(database=\"jupyterdb\", user=\"jupyteruser\", password=\"jupyteruser\")\n",
    "cur = conn.cursor()"
   ]
  },
  {
   "cell_type": "code",
   "execution_count": 23,
   "metadata": {},
   "outputs": [],
   "source": [
    "conn.autocommit = True"
   ]
  },
  {
   "cell_type": "code",
   "execution_count": 25,
   "metadata": {},
   "outputs": [],
   "source": [
    "cur.execute(\"INSERT INTO t1 VALUES (5), (6), (7);\")"
   ]
  },
  {
   "cell_type": "code",
   "execution_count": 26,
   "metadata": {},
   "outputs": [],
   "source": [
    "cur.execute(\"SELECT * FROM t1;\")"
   ]
  },
  {
   "cell_type": "code",
   "execution_count": 27,
   "metadata": {},
   "outputs": [
    {
     "data": {
      "text/plain": [
       "(5,)"
      ]
     },
     "execution_count": 27,
     "metadata": {},
     "output_type": "execute_result"
    }
   ],
   "source": [
    "cur.fetchone()"
   ]
  },
  {
   "cell_type": "code",
   "execution_count": 28,
   "metadata": {},
   "outputs": [
    {
     "data": {
      "text/plain": [
       "[(6,), (7,)]"
      ]
     },
     "execution_count": 28,
     "metadata": {},
     "output_type": "execute_result"
    }
   ],
   "source": [
    "cur.fetchall()"
   ]
  },
  {
   "cell_type": "code",
   "execution_count": 35,
   "metadata": {},
   "outputs": [],
   "source": [
    "cur.scroll(0, mode='absolute')"
   ]
  },
  {
   "cell_type": "code",
   "execution_count": 36,
   "metadata": {},
   "outputs": [
    {
     "data": {
      "text/plain": [
       "[(5,), (6,), (7,)]"
      ]
     },
     "execution_count": 36,
     "metadata": {},
     "output_type": "execute_result"
    }
   ],
   "source": [
    "cur.fetchall()"
   ]
  },
  {
   "cell_type": "code",
   "execution_count": 37,
   "metadata": {},
   "outputs": [
    {
     "data": {
      "text/plain": [
       "[]"
      ]
     },
     "execution_count": 37,
     "metadata": {},
     "output_type": "execute_result"
    }
   ],
   "source": [
    "cur.fetchall()"
   ]
  },
  {
   "cell_type": "code",
   "execution_count": 38,
   "metadata": {},
   "outputs": [],
   "source": [
    "cur.scroll(0, mode='absolute')"
   ]
  },
  {
   "cell_type": "code",
   "execution_count": 39,
   "metadata": {},
   "outputs": [
    {
     "data": {
      "text/plain": [
       "(5,)"
      ]
     },
     "execution_count": 39,
     "metadata": {},
     "output_type": "execute_result"
    }
   ],
   "source": [
    "cur.fetchone()"
   ]
  },
  {
   "cell_type": "code",
   "execution_count": 40,
   "metadata": {},
   "outputs": [
    {
     "data": {
      "text/plain": [
       "(6,)"
      ]
     },
     "execution_count": 40,
     "metadata": {},
     "output_type": "execute_result"
    }
   ],
   "source": [
    "cur.fetchone()"
   ]
  },
  {
   "cell_type": "code",
   "execution_count": 41,
   "metadata": {},
   "outputs": [
    {
     "data": {
      "text/plain": [
       "(7,)"
      ]
     },
     "execution_count": 41,
     "metadata": {},
     "output_type": "execute_result"
    }
   ],
   "source": [
    "cur.fetchone()"
   ]
  },
  {
   "cell_type": "code",
   "execution_count": 42,
   "metadata": {},
   "outputs": [],
   "source": [
    "cur.fetchone()"
   ]
  },
  {
   "cell_type": "code",
   "execution_count": 43,
   "metadata": {},
   "outputs": [],
   "source": [
    "cur.scroll(1, mode='absolute')"
   ]
  },
  {
   "cell_type": "code",
   "execution_count": 44,
   "metadata": {},
   "outputs": [
    {
     "data": {
      "text/plain": [
       "(6,)"
      ]
     },
     "execution_count": 44,
     "metadata": {},
     "output_type": "execute_result"
    }
   ],
   "source": [
    "cur.fetchone()"
   ]
  },
  {
   "cell_type": "code",
   "execution_count": null,
   "metadata": {},
   "outputs": [],
   "source": []
  },
  {
   "cell_type": "code",
   "execution_count": null,
   "metadata": {},
   "outputs": [],
   "source": []
  },
  {
   "cell_type": "code",
   "execution_count": 33,
   "metadata": {},
   "outputs": [
    {
     "data": {
      "text/plain": [
       "['__class__',\n",
       " '__delattr__',\n",
       " '__dir__',\n",
       " '__doc__',\n",
       " '__enter__',\n",
       " '__eq__',\n",
       " '__exit__',\n",
       " '__format__',\n",
       " '__ge__',\n",
       " '__getattribute__',\n",
       " '__gt__',\n",
       " '__hash__',\n",
       " '__init__',\n",
       " '__init_subclass__',\n",
       " '__iter__',\n",
       " '__le__',\n",
       " '__lt__',\n",
       " '__ne__',\n",
       " '__new__',\n",
       " '__next__',\n",
       " '__reduce__',\n",
       " '__reduce_ex__',\n",
       " '__repr__',\n",
       " '__setattr__',\n",
       " '__sizeof__',\n",
       " '__str__',\n",
       " '__subclasshook__',\n",
       " 'arraysize',\n",
       " 'binary_types',\n",
       " 'callproc',\n",
       " 'cast',\n",
       " 'close',\n",
       " 'closed',\n",
       " 'connection',\n",
       " 'copy_expert',\n",
       " 'copy_from',\n",
       " 'copy_to',\n",
       " 'description',\n",
       " 'execute',\n",
       " 'executemany',\n",
       " 'fetchall',\n",
       " 'fetchmany',\n",
       " 'fetchone',\n",
       " 'itersize',\n",
       " 'lastrowid',\n",
       " 'mogrify',\n",
       " 'name',\n",
       " 'nextset',\n",
       " 'pgresult_ptr',\n",
       " 'query',\n",
       " 'row_factory',\n",
       " 'rowcount',\n",
       " 'rownumber',\n",
       " 'scroll',\n",
       " 'scrollable',\n",
       " 'setinputsizes',\n",
       " 'setoutputsize',\n",
       " 'statusmessage',\n",
       " 'string_types',\n",
       " 'typecaster',\n",
       " 'tzinfo_factory',\n",
       " 'withhold']"
      ]
     },
     "execution_count": 33,
     "metadata": {},
     "output_type": "execute_result"
    }
   ],
   "source": [
    "dir(cur)"
   ]
  },
  {
   "cell_type": "code",
   "execution_count": 30,
   "metadata": {},
   "outputs": [
    {
     "data": {
      "text/plain": [
       "[]"
      ]
     },
     "execution_count": 30,
     "metadata": {},
     "output_type": "execute_result"
    }
   ],
   "source": [
    "cur.fetchall()"
   ]
  },
  {
   "cell_type": "code",
   "execution_count": 7,
   "metadata": {},
   "outputs": [],
   "source": [
    "conn.autocommit = False"
   ]
  },
  {
   "cell_type": "code",
   "execution_count": 8,
   "metadata": {},
   "outputs": [],
   "source": [
    "cur.execute(\"SELECT * FROM t1;\")"
   ]
  },
  {
   "cell_type": "code",
   "execution_count": 9,
   "metadata": {},
   "outputs": [
    {
     "data": {
      "text/plain": [
       "(5,)"
      ]
     },
     "execution_count": 9,
     "metadata": {},
     "output_type": "execute_result"
    }
   ],
   "source": [
    "cur.fetchone()"
   ]
  },
  {
   "cell_type": "code",
   "execution_count": 10,
   "metadata": {},
   "outputs": [],
   "source": []
  },
  {
   "cell_type": "code",
   "execution_count": 11,
   "metadata": {},
   "outputs": [
    {
     "data": {
      "text/plain": [
       "2"
      ]
     },
     "execution_count": 11,
     "metadata": {},
     "output_type": "execute_result"
    }
   ],
   "source": [
    "conn.get_transaction_status()"
   ]
  },
  {
   "cell_type": "code",
   "execution_count": 12,
   "metadata": {},
   "outputs": [
    {
     "ename": "ProgrammingError",
     "evalue": "no results to fetch",
     "output_type": "error",
     "traceback": [
      "\u001b[0;31m---------------------------------------------------------------------------\u001b[0m",
      "\u001b[0;31mProgrammingError\u001b[0m                          Traceback (most recent call last)",
      "\u001b[0;32m<ipython-input-12-ddc98b55863b>\u001b[0m in \u001b[0;36m<module>\u001b[0;34m\u001b[0m\n\u001b[0;32m----> 1\u001b[0;31m \u001b[0mcur\u001b[0m\u001b[0;34m.\u001b[0m\u001b[0mfetchone\u001b[0m\u001b[0;34m(\u001b[0m\u001b[0;34m)\u001b[0m\u001b[0;34m\u001b[0m\u001b[0;34m\u001b[0m\u001b[0m\n\u001b[0m",
      "\u001b[0;31mProgrammingError\u001b[0m: no results to fetch"
     ]
    }
   ],
   "source": [
    "cur.fetchone()"
   ]
  },
  {
   "cell_type": "code",
   "execution_count": 13,
   "metadata": {},
   "outputs": [],
   "source": [
    "conn.rollback()"
   ]
  },
  {
   "cell_type": "code",
   "execution_count": 14,
   "metadata": {},
   "outputs": [
    {
     "ename": "ProgrammingError",
     "evalue": "no results to fetch",
     "output_type": "error",
     "traceback": [
      "\u001b[0;31m---------------------------------------------------------------------------\u001b[0m",
      "\u001b[0;31mProgrammingError\u001b[0m                          Traceback (most recent call last)",
      "\u001b[0;32m<ipython-input-14-ddc98b55863b>\u001b[0m in \u001b[0;36m<module>\u001b[0;34m\u001b[0m\n\u001b[0;32m----> 1\u001b[0;31m \u001b[0mcur\u001b[0m\u001b[0;34m.\u001b[0m\u001b[0mfetchone\u001b[0m\u001b[0;34m(\u001b[0m\u001b[0;34m)\u001b[0m\u001b[0;34m\u001b[0m\u001b[0;34m\u001b[0m\u001b[0m\n\u001b[0m",
      "\u001b[0;31mProgrammingError\u001b[0m: no results to fetch"
     ]
    }
   ],
   "source": [
    "cur.fetchone()"
   ]
  },
  {
   "cell_type": "code",
   "execution_count": 15,
   "metadata": {},
   "outputs": [],
   "source": [
    "cur.execute(\"INSERT INTO t1 VALUES (8), (9), (10);\")\n",
    "conn.commit()"
   ]
  },
  {
   "cell_type": "code",
   "execution_count": 16,
   "metadata": {},
   "outputs": [],
   "source": [
    "cur.execute(\"SELECT * FROM t1;\")"
   ]
  },
  {
   "cell_type": "code",
   "execution_count": 17,
   "metadata": {},
   "outputs": [
    {
     "data": {
      "text/plain": [
       "(5,)"
      ]
     },
     "execution_count": 17,
     "metadata": {},
     "output_type": "execute_result"
    }
   ],
   "source": [
    "cur.fetchone()"
   ]
  },
  {
   "cell_type": "code",
   "execution_count": 18,
   "metadata": {},
   "outputs": [
    {
     "data": {
      "text/plain": [
       "[(5,),\n",
       " (6,),\n",
       " (7,),\n",
       " (8,),\n",
       " (9,),\n",
       " (10,),\n",
       " (18,),\n",
       " (19,),\n",
       " (100,),\n",
       " (18,),\n",
       " (19,),\n",
       " (100,),\n",
       " (8,),\n",
       " (9,),\n",
       " (10,)]"
      ]
     },
     "execution_count": 18,
     "metadata": {},
     "output_type": "execute_result"
    }
   ],
   "source": [
    "cur.fetchall()"
   ]
  },
  {
   "cell_type": "markdown",
   "metadata": {},
   "source": [
    "IF conn.autocommit = False, here are two ways to use psycopg:"
   ]
  },
  {
   "cell_type": "code",
   "execution_count": null,
   "metadata": {},
   "outputs": [],
   "source": [
    "cur.execute(\"INSERT INTO t1 VALUES (8), (9), (10);\")\n",
    "conn.commit()"
   ]
  },
  {
   "cell_type": "code",
   "execution_count": null,
   "metadata": {},
   "outputs": [],
   "source": []
  },
  {
   "cell_type": "code",
   "execution_count": 32,
   "metadata": {},
   "outputs": [],
   "source": [
    "with conn: # danger, abnormal behavior. YOU MUST STILL do conn.close()\n",
    "    cur.execute(\"INSERT INTO t1 VALUES (18), (19), (100);\")\n",
    "    \n",
    "with conn:\n",
    "    cur.execute(\"SELECT * FROM t1;\")"
   ]
  },
  {
   "cell_type": "code",
   "execution_count": 33,
   "metadata": {},
   "outputs": [
    {
     "data": {
      "text/plain": [
       "[(5,),\n",
       " (5,),\n",
       " (6,),\n",
       " (7,),\n",
       " (8,),\n",
       " (9,),\n",
       " (10,),\n",
       " (18,),\n",
       " (19,),\n",
       " (100,),\n",
       " (18,),\n",
       " (19,),\n",
       " (100,)]"
      ]
     },
     "execution_count": 33,
     "metadata": {},
     "output_type": "execute_result"
    }
   ],
   "source": [
    "cur.fetchall()"
   ]
  },
  {
   "cell_type": "markdown",
   "metadata": {},
   "source": [
    "after you are done, ALWAYS DO conn.close()"
   ]
  },
  {
   "cell_type": "code",
   "execution_count": 36,
   "metadata": {},
   "outputs": [],
   "source": [
    "conn.close()"
   ]
  },
  {
   "cell_type": "code",
   "execution_count": 37,
   "metadata": {},
   "outputs": [
    {
     "ename": "InterfaceError",
     "evalue": "cursor already closed",
     "output_type": "error",
     "traceback": [
      "\u001b[0;31m---------------------------------------------------------------------------\u001b[0m",
      "\u001b[0;31mInterfaceError\u001b[0m                            Traceback (most recent call last)",
      "\u001b[0;32m<ipython-input-37-26a22e435772>\u001b[0m in \u001b[0;36m<module>\u001b[0;34m\u001b[0m\n\u001b[0;32m----> 1\u001b[0;31m \u001b[0mcur\u001b[0m\u001b[0;34m.\u001b[0m\u001b[0mexecute\u001b[0m\u001b[0;34m(\u001b[0m\u001b[0;34m\"SELECT * FROM t1;\"\u001b[0m\u001b[0;34m)\u001b[0m\u001b[0;34m\u001b[0m\u001b[0;34m\u001b[0m\u001b[0m\n\u001b[0m",
      "\u001b[0;31mInterfaceError\u001b[0m: cursor already closed"
     ]
    }
   ],
   "source": [
    "cur.execute(\"SELECT * FROM t1;\") #InterfaceError: cursor already closed"
   ]
  },
  {
   "cell_type": "code",
   "execution_count": null,
   "metadata": {},
   "outputs": [],
   "source": []
  },
  {
   "cell_type": "code",
   "execution_count": null,
   "metadata": {},
   "outputs": [],
   "source": []
  },
  {
   "cell_type": "code",
   "execution_count": 3,
   "metadata": {},
   "outputs": [],
   "source": [
    "conn = psycopg2.connect(database=\"jupyterdb\", user=\"jupyteruser\", password=\"jupyteruser\")\n",
    "cur = conn.cursor()"
   ]
  },
  {
   "cell_type": "code",
   "execution_count": 4,
   "metadata": {},
   "outputs": [],
   "source": [
    "conn.autocommit = True"
   ]
  },
  {
   "cell_type": "code",
   "execution_count": 5,
   "metadata": {},
   "outputs": [],
   "source": [
    "cur.execute(\"\"\"\n",
    "        DROP TABLE IF EXISTS cars;\n",
    "        CREATE TABLE cars(id INT, name TEXT, price INT);\n",
    "        INSERT INTO cars VALUES(1,'Audi',52642);\n",
    "        INSERT INTO cars VALUES(2,'Mercedes',57127);\n",
    "        INSERT INTO cars VALUES(3,'Skoda',9000);\n",
    "        INSERT INTO cars VALUES(4,'Volvo',29000);\n",
    "        INSERT INTO cars VALUES(5,'Bentley',350000);\n",
    "        INSERT INTO cars VALUES(6,'Citroen',21000);\n",
    "        INSERT INTO cars VALUES(7,'Hummer',41400);\n",
    "        INSERT INTO cars VALUES(8,'Volkswagen',21600);\n",
    "        \"\"\")"
   ]
  },
  {
   "cell_type": "code",
   "execution_count": 7,
   "metadata": {},
   "outputs": [
    {
     "data": {
      "text/plain": [
       "[(1, 'Audi', 52642),\n",
       " (2, 'Mercedes', 57127),\n",
       " (3, 'Skoda', 9000),\n",
       " (4, 'Volvo', 29000),\n",
       " (5, 'Bentley', 350000),\n",
       " (6, 'Citroen', 21000),\n",
       " (7, 'Hummer', 41400),\n",
       " (8, 'Volkswagen', 21600)]"
      ]
     },
     "execution_count": 7,
     "metadata": {},
     "output_type": "execute_result"
    }
   ],
   "source": [
    "cur.execute(\"SELECT * FROM cars;\")\n",
    "cur.fetchall()"
   ]
  },
  {
   "cell_type": "code",
   "execution_count": null,
   "metadata": {},
   "outputs": [],
   "source": []
  },
  {
   "cell_type": "code",
   "execution_count": 8,
   "metadata": {},
   "outputs": [
    {
     "ename": "InsufficientPrivilege",
     "evalue": "permission denied for table psycopg_test\n",
     "output_type": "error",
     "traceback": [
      "\u001b[0;31m---------------------------------------------------------------------------\u001b[0m",
      "\u001b[0;31mInsufficientPrivilege\u001b[0m                     Traceback (most recent call last)",
      "\u001b[0;32m<ipython-input-8-0f75f13ebbae>\u001b[0m in \u001b[0;36m<module>\u001b[0;34m\u001b[0m\n\u001b[0;32m----> 1\u001b[0;31m \u001b[0mcur\u001b[0m\u001b[0;34m.\u001b[0m\u001b[0mexecute\u001b[0m\u001b[0;34m(\u001b[0m\u001b[0;34m\"SELECT * FROM psycopg_test;\"\u001b[0m\u001b[0;34m)\u001b[0m\u001b[0;34m\u001b[0m\u001b[0;34m\u001b[0m\u001b[0m\n\u001b[0m\u001b[1;32m      2\u001b[0m \u001b[0mcur\u001b[0m\u001b[0;34m.\u001b[0m\u001b[0mfetchall\u001b[0m\u001b[0;34m(\u001b[0m\u001b[0;34m)\u001b[0m\u001b[0;34m\u001b[0m\u001b[0;34m\u001b[0m\u001b[0m\n",
      "\u001b[0;31mInsufficientPrivilege\u001b[0m: permission denied for table psycopg_test\n"
     ]
    }
   ],
   "source": [
    "cur.execute(\"SELECT * FROM psycopg_test;\")\n",
    "cur.fetchall()"
   ]
  },
  {
   "cell_type": "code",
   "execution_count": 9,
   "metadata": {},
   "outputs": [],
   "source": [
    "cur.close()\n",
    "conn.close()"
   ]
  },
  {
   "cell_type": "code",
   "execution_count": 10,
   "metadata": {},
   "outputs": [],
   "source": [
    "conn = psycopg2.connect(database=\"jupyterdb\", user=os.getlogin())\n",
    "cur = conn.cursor()"
   ]
  },
  {
   "cell_type": "code",
   "execution_count": 11,
   "metadata": {},
   "outputs": [
    {
     "data": {
      "text/plain": [
       "[(1, 'sean', 'sqr9978@gmail.com'),\n",
       " (2, 'Virginia Holmes', 'Virginia Holmes'),\n",
       " (3, 'Virginia Holmes', 'lesliewelch@shaw.com'),\n",
       " (4, 'Virginia Holmes', 'lesliewelch@shaw.com'),\n",
       " (5, 'Bonnie Jones', 'holtbrian@gmail.com'),\n",
       " (6, 'Brian Taylor', 'wrightjason@manning.com'),\n",
       " (7, 'Jeremy Harris', 'allisonjackson@gmail.com'),\n",
       " (8, 'Elizabeth Nguyen', 'jordanedward@taylor.com'),\n",
       " (9, 'Natasha Smith', 'gwilkins@hotmail.com'),\n",
       " (10, 'Alexandra Ramos', 'wardelizabeth@hotmail.com'),\n",
       " (11, 'James Myers', 'billywang@gmail.com'),\n",
       " (12, 'Becky Patton', 'youngzachary@graham.com'),\n",
       " (13, 'Allen Brown', 'jessicamartin@young-freeman.info'),\n",
       " (14, 'Sheryl Jones', 'barbarataylor@yahoo.com'),\n",
       " (15, 'Amanda Yates', 'thomasrandy@thomas.net'),\n",
       " (16, 'Brady Harris', 'racheljones@hotmail.com'),\n",
       " (17, 'Mckenzie Williams', 'stephanie00@rose.com'),\n",
       " (18, 'Michael Osborn', 'wallacedominic@hotmail.com'),\n",
       " (19, 'Joshua Williams', 'conleylinda@gmail.com'),\n",
       " (20, 'Heather Gonzalez DVM', 'hoovershelly@page-woods.com'),\n",
       " (21, 'Taylor Joseph', 'oneillmichael@vazquez-davies.com'),\n",
       " (22, 'Dana Booth', 'joseph97@hotmail.com'),\n",
       " (23, 'Charles Williams', 'jonespeter@yahoo.com'),\n",
       " (24, 'Lisa Barnes', 'kimberly96@serrano-keller.com'),\n",
       " (25, 'Michael Dennis', 'bradleylawrence@gmail.com'),\n",
       " (26, 'Lauren Myers', 'sophiamccarthy@gmail.com'),\n",
       " (27, 'Benjamin Harris', 'bradleymosley@smith.info'),\n",
       " (28, 'Patricia Holmes', 'adammcdowell@hotmail.com'),\n",
       " (29, 'Lisa Pratt', 'stricklandkatrina@smith.info'),\n",
       " (30, 'Charlotte Warren', 'billwiggins@holloway-young.biz'),\n",
       " (31, 'Jose White', 'bethanygonzalez@stone-thomas.com'),\n",
       " (32, 'Hailey Nguyen', 'smithbeth@yahoo.com'),\n",
       " (33, 'Tanya Rowland', 'campbellamanda@smith-lopez.org')]"
      ]
     },
     "execution_count": 11,
     "metadata": {},
     "output_type": "execute_result"
    }
   ],
   "source": [
    "cur.execute(\"SELECT * FROM psycopg_test;\")\n",
    "cur.fetchall()"
   ]
  },
  {
   "cell_type": "code",
   "execution_count": null,
   "metadata": {},
   "outputs": [],
   "source": []
  },
  {
   "cell_type": "code",
   "execution_count": 12,
   "metadata": {},
   "outputs": [],
   "source": [
    "from faker import Faker\n",
    "fake = Faker()\n"
   ]
  },
  {
   "cell_type": "code",
   "execution_count": 114,
   "metadata": {},
   "outputs": [],
   "source": [
    "cur.execute(\"DROP TABLE IF EXISTS psycopg_test;\")"
   ]
  },
  {
   "cell_type": "code",
   "execution_count": 144,
   "metadata": {},
   "outputs": [
    {
     "ename": "DuplicateTable",
     "evalue": "relation \"psycopg_test\" already exists\n",
     "output_type": "error",
     "traceback": [
      "\u001b[0;31m---------------------------------------------------------------------------\u001b[0m",
      "\u001b[0;31mDuplicateTable\u001b[0m                            Traceback (most recent call last)",
      "\u001b[0;32m<ipython-input-144-0fc24be00f57>\u001b[0m in \u001b[0;36m<module>\u001b[0;34m\u001b[0m\n\u001b[0;32m----> 1\u001b[0;31m \u001b[0mcur\u001b[0m\u001b[0;34m.\u001b[0m\u001b[0mexecute\u001b[0m\u001b[0;34m(\u001b[0m\u001b[0;34m\"CREATE TABLE psycopg_test (id serial PRIMARY KEY, name text, email text);\"\u001b[0m\u001b[0;34m)\u001b[0m\u001b[0;34m\u001b[0m\u001b[0;34m\u001b[0m\u001b[0m\n\u001b[0m",
      "\u001b[0;31mDuplicateTable\u001b[0m: relation \"psycopg_test\" already exists\n"
     ]
    }
   ],
   "source": [
    "cur.execute(\"CREATE TABLE psycopg_test (id serial PRIMARY KEY, name text, email text);\")"
   ]
  },
  {
   "cell_type": "code",
   "execution_count": 116,
   "metadata": {},
   "outputs": [],
   "source": [
    "query = \"\"\"\n",
    "INSERT INTO psycopg_test(name, email)\n",
    "VALUES\n",
    "{}\n",
    "\"\"\"\n"
   ]
  },
  {
   "cell_type": "code",
   "execution_count": 32,
   "metadata": {},
   "outputs": [
    {
     "data": {
      "text/plain": [
       "\"('Anthony Yang', 'mjames@vega-johnson.com'), ('Amanda Maldonado', 'richardarmstrong@davis.org'), ('Alex Allen', 'carol32@gmail.com'), ('Hannah Davis', 'lawrencejames@gmail.com'), ('Megan Moody', 'danielhaley@hotmail.com'), ('Robert Benton DDS', 'kbender@gmail.com'), ('Tony Calderon', 'micheal86@johnson-hall.com'), ('Patricia Hart', 'dominiqueguzman@yahoo.com'), ('Katrina Brown', 'dkelly@gordon.info'), ('Mr. Cody Brown', 'williamsrhonda@allen-james.com'), ('Heidi Cisneros', 'amiller@reese.org'), ('Louis Murray', 'rstewart@hurst-sanders.net'), ('Logan Sanchez', 'tball@hotmail.com'), ('Natalie Cruz', 'jennifer66@trevino-lara.com'), ('Shannon Mathis', 'pgarrett@gmail.com'), ('Sarah Wilson', 'williamskathleen@gmail.com'), ('Stephanie Kim', 'sanchezrobin@gmail.com'), ('Rickey Rivera', 'bakerjames@johnson.com'), ('James Jackson', 'ssmith@gmail.com'), ('Dr. Ashley Vargas DDS', 'kelly26@gmail.com')\""
      ]
     },
     "execution_count": 32,
     "metadata": {},
     "output_type": "execute_result"
    }
   ],
   "source": [
    "val_string = str([(fake.name(), fake.email()) for _ in range(20)]).replace(\"[\",\"\").replace(\"]\", \"\")\n",
    "val_string"
   ]
  },
  {
   "cell_type": "code",
   "execution_count": 31,
   "metadata": {},
   "outputs": [
    {
     "data": {
      "text/plain": [
       "'(%s, %s), (%s, %s), (%s, %s), (%s, %s), (%s, %s), (%s, %s), (%s, %s), (%s, %s), (%s, %s), (%s, %s), (%s, %s), (%s, %s), (%s, %s), (%s, %s), (%s, %s), (%s, %s), (%s, %s), (%s, %s), (%s, %s), (%s, %s)'"
      ]
     },
     "execution_count": 31,
     "metadata": {},
     "output_type": "execute_result"
    }
   ],
   "source": [
    "placeholder_string = str([(\"%s\", \"%s\") for _ in range(20)]).replace(\"[\",\"\").replace(\"]\", \"\").replace(\"'\", \"\")\n",
    "placeholder_string"
   ]
  },
  {
   "cell_type": "code",
   "execution_count": 35,
   "metadata": {},
   "outputs": [
    {
     "data": {
      "text/plain": [
       "'\\nINSERT INTO psycopg_test(name, email)\\nVALUES\\n(%s, %s), (%s, %s), (%s, %s), (%s, %s), (%s, %s), (%s, %s), (%s, %s), (%s, %s), (%s, %s), (%s, %s), (%s, %s), (%s, %s), (%s, %s), (%s, %s), (%s, %s), (%s, %s), (%s, %s), (%s, %s), (%s, %s), (%s, %s)\\n'"
      ]
     },
     "execution_count": 35,
     "metadata": {},
     "output_type": "execute_result"
    }
   ],
   "source": [
    "query.format(placeholder_string)"
   ]
  },
  {
   "cell_type": "code",
   "execution_count": 36,
   "metadata": {},
   "outputs": [
    {
     "ename": "TypeError",
     "evalue": "not all arguments converted during string formatting",
     "output_type": "error",
     "traceback": [
      "\u001b[0;31m---------------------------------------------------------------------------\u001b[0m",
      "\u001b[0;31mTypeError\u001b[0m                                 Traceback (most recent call last)",
      "\u001b[0;32m<ipython-input-36-47f8b7a73932>\u001b[0m in \u001b[0;36m<module>\u001b[0;34m\u001b[0m\n\u001b[0;32m----> 1\u001b[0;31m \u001b[0mcur\u001b[0m\u001b[0;34m.\u001b[0m\u001b[0mexecute\u001b[0m\u001b[0;34m(\u001b[0m\u001b[0mquery\u001b[0m\u001b[0;34m.\u001b[0m\u001b[0mformat\u001b[0m\u001b[0;34m(\u001b[0m\u001b[0mplaceholder_string\u001b[0m\u001b[0;34m)\u001b[0m\u001b[0;34m,\u001b[0m \u001b[0mval_string\u001b[0m\u001b[0;34m)\u001b[0m\u001b[0;34m\u001b[0m\u001b[0;34m\u001b[0m\u001b[0m\n\u001b[0m",
      "\u001b[0;31mTypeError\u001b[0m: not all arguments converted during string formatting"
     ]
    }
   ],
   "source": [
    "cur.execute(query.format(placeholder_string), val_string)"
   ]
  },
  {
   "cell_type": "code",
   "execution_count": 37,
   "metadata": {},
   "outputs": [
    {
     "data": {
      "text/plain": [
       "\"('Anthony Yang', 'mjames@vega-johnson.com'), ('Amanda Maldonado', 'richardarmstrong@davis.org'), ('Alex Allen', 'carol32@gmail.com'), ('Hannah Davis', 'lawrencejames@gmail.com'), ('Megan Moody', 'danielhaley@hotmail.com'), ('Robert Benton DDS', 'kbender@gmail.com'), ('Tony Calderon', 'micheal86@johnson-hall.com'), ('Patricia Hart', 'dominiqueguzman@yahoo.com'), ('Katrina Brown', 'dkelly@gordon.info'), ('Mr. Cody Brown', 'williamsrhonda@allen-james.com'), ('Heidi Cisneros', 'amiller@reese.org'), ('Louis Murray', 'rstewart@hurst-sanders.net'), ('Logan Sanchez', 'tball@hotmail.com'), ('Natalie Cruz', 'jennifer66@trevino-lara.com'), ('Shannon Mathis', 'pgarrett@gmail.com'), ('Sarah Wilson', 'williamskathleen@gmail.com'), ('Stephanie Kim', 'sanchezrobin@gmail.com'), ('Rickey Rivera', 'bakerjames@johnson.com'), ('James Jackson', 'ssmith@gmail.com'), ('Dr. Ashley Vargas DDS', 'kelly26@gmail.com')\""
      ]
     },
     "execution_count": 37,
     "metadata": {},
     "output_type": "execute_result"
    }
   ],
   "source": [
    "val_string"
   ]
  },
  {
   "cell_type": "code",
   "execution_count": null,
   "metadata": {},
   "outputs": [],
   "source": []
  },
  {
   "cell_type": "markdown",
   "metadata": {},
   "source": [
    "## This works. But ... rabbit hole ahead!"
   ]
  },
  {
   "cell_type": "code",
   "execution_count": 147,
   "metadata": {},
   "outputs": [],
   "source": [
    "conn.rollback()\n",
    "conn.autocommit = True"
   ]
  },
  {
   "cell_type": "code",
   "execution_count": 149,
   "metadata": {},
   "outputs": [],
   "source": [
    "cur.execute(\"TRUNCATE TABLE psycopg_test;\")"
   ]
  },
  {
   "cell_type": "code",
   "execution_count": 150,
   "metadata": {},
   "outputs": [
    {
     "data": {
      "text/plain": [
       "[]"
      ]
     },
     "execution_count": 150,
     "metadata": {},
     "output_type": "execute_result"
    }
   ],
   "source": [
    "cur.execute(\"SELECT * FROM psycopg_test\")\n",
    "cur.fetchall()"
   ]
  },
  {
   "cell_type": "code",
   "execution_count": 151,
   "metadata": {},
   "outputs": [
    {
     "data": {
      "text/plain": [
       "'(%s, %s), (%s, %s)'"
      ]
     },
     "execution_count": 151,
     "metadata": {},
     "output_type": "execute_result"
    }
   ],
   "source": [
    "placeholder_string = str([(\"%s\", \"%s\") for _ in range(2)]).replace(\"[\",\"\").replace(\"]\", \"\").replace(\"'\", \"\")\n",
    "placeholder_string"
   ]
  },
  {
   "cell_type": "code",
   "execution_count": 152,
   "metadata": {},
   "outputs": [],
   "source": [
    "query = \"INSERT INTO psycopg_test(name, email) VALUES {}\""
   ]
  },
  {
   "cell_type": "code",
   "execution_count": 153,
   "metadata": {},
   "outputs": [
    {
     "data": {
      "text/plain": [
       "'INSERT INTO psycopg_test(name, email) VALUES (%s, %s), (%s, %s)'"
      ]
     },
     "execution_count": 153,
     "metadata": {},
     "output_type": "execute_result"
    }
   ],
   "source": [
    "query.format(placeholder_string)"
   ]
  },
  {
   "cell_type": "code",
   "execution_count": 154,
   "metadata": {},
   "outputs": [
    {
     "data": {
      "text/plain": [
       "['Jennifer Munoz',\n",
       " 'ekrueger@patel-meyer.com',\n",
       " 'Samantha Ortiz',\n",
       " 'jayala@obrien-hernandez.com']"
      ]
     },
     "execution_count": 154,
     "metadata": {},
     "output_type": "execute_result"
    }
   ],
   "source": [
    "val_list = []\n",
    "for _ in range(2):\n",
    "    val_list.append(fake.name())\n",
    "    val_list.append(fake.email())\n",
    "val_list"
   ]
  },
  {
   "cell_type": "code",
   "execution_count": 155,
   "metadata": {},
   "outputs": [
    {
     "data": {
      "text/plain": [
       "('INSERT INTO psycopg_test(name, email) VALUES (%s, %s), (%s, %s)',\n",
       " ['Jennifer Munoz',\n",
       "  'ekrueger@patel-meyer.com',\n",
       "  'Samantha Ortiz',\n",
       "  'jayala@obrien-hernandez.com'])"
      ]
     },
     "execution_count": 155,
     "metadata": {},
     "output_type": "execute_result"
    }
   ],
   "source": [
    "query.format(placeholder_string), val_list"
   ]
  },
  {
   "cell_type": "code",
   "execution_count": 156,
   "metadata": {},
   "outputs": [],
   "source": [
    "cur.execute(query.format(placeholder_string), val_list)"
   ]
  },
  {
   "cell_type": "code",
   "execution_count": 157,
   "metadata": {},
   "outputs": [
    {
     "data": {
      "text/plain": [
       "[(34, 'Jennifer Munoz', 'ekrueger@patel-meyer.com'),\n",
       " (35, 'Samantha Ortiz', 'jayala@obrien-hernandez.com')]"
      ]
     },
     "execution_count": 157,
     "metadata": {},
     "output_type": "execute_result"
    }
   ],
   "source": [
    "cur.execute(\"SELECT * FROM psycopg_test\")\n",
    "cur.fetchall()"
   ]
  },
  {
   "cell_type": "code",
   "execution_count": null,
   "metadata": {},
   "outputs": [],
   "source": []
  },
  {
   "cell_type": "markdown",
   "metadata": {},
   "source": [
    "## Down the Rabbit Hole!"
   ]
  },
  {
   "cell_type": "code",
   "execution_count": null,
   "metadata": {},
   "outputs": [],
   "source": []
  },
  {
   "cell_type": "markdown",
   "metadata": {},
   "source": [
    "Start over"
   ]
  },
  {
   "cell_type": "code",
   "execution_count": 86,
   "metadata": {},
   "outputs": [],
   "source": [
    "# from faker import Faker\n",
    "\n",
    "# #version 1\n",
    "# def make_fake_data(n=2, params=None):\n",
    "#     '''\n",
    "#     input \n",
    "#         n: integer\n",
    "#         params: list\n",
    "    \n",
    "#     output\n",
    "#         tuple: placeholder_string, val_list_of_tuples\n",
    "#     '''\n",
    "#     def make_list_of_tuples(fake_data, number_of_params):\n",
    "#         length = len(fake_data)\n",
    "#         list_of_tuples = []\n",
    "#         for i in range(0,length,number_of_params):\n",
    "#             list_of_tuples.append(tuple(fake_data[i:i+number_of_params]))\n",
    "#         return list_of_tuples\n",
    "        \n",
    "        \n",
    "#     fake = Faker()\n",
    "#     try:\n",
    "#         fake_data = [eval(f\"fake.{item}()\") for _ in range(n) for item in params ]\n",
    "#         fake_data = make_list_of_tuples(fake_data, len(params))\n",
    "\n",
    "        \n",
    "#     except Exception as e:\n",
    "#         fake_data = []\n",
    "#         print(e)\n",
    "\n",
    "#     #return placeholder_string, val_string \n",
    "#     return fake_data\n"
   ]
  },
  {
   "cell_type": "code",
   "execution_count": null,
   "metadata": {},
   "outputs": [],
   "source": []
  },
  {
   "cell_type": "code",
   "execution_count": 91,
   "metadata": {},
   "outputs": [],
   "source": [
    "from faker import Faker\n",
    "#version #2\n",
    "def make_fake_data(n=2, params=None):\n",
    "    '''\n",
    "    input \n",
    "        n: integer\n",
    "        params: list\n",
    "    \n",
    "    output\n",
    "        tuple: placeholder_string, val_list_of_tuples\n",
    "    '''\n",
    "    def make_val_string(number_of_records, params):\n",
    "        fake_data = [eval(f\"fake.{item}()\") for _ in range(number_of_records) for item in params ]\n",
    "        length = len(fake_data)\n",
    "        val_string = []\n",
    "        for i in range(0,length,len(params)):\n",
    "            val_string.append(tuple(fake_data[i:i+len(params)]))\n",
    "        return val_string\n",
    "\n",
    "        \n",
    "    fake = Faker()\n",
    "    try:\n",
    "#         fake_data = [eval(f\"fake.{item}()\") for _ in range(n) for item in params ]\n",
    "        val_string = make_val_string(n, params)\n",
    "    except Exception as e:\n",
    "        print(e)\n",
    "\n",
    "    return val_string\n"
   ]
  },
  {
   "cell_type": "code",
   "execution_count": 101,
   "metadata": {},
   "outputs": [],
   "source": [
    "from faker import Faker\n",
    "#version #3\n",
    "def make_fake_data(n=2, params=None):\n",
    "    '''\n",
    "    input \n",
    "        n: integer\n",
    "        params: list\n",
    "    \n",
    "    output\n",
    "        tuple: placeholder_string, val_list\n",
    "    '''\n",
    "    \n",
    "#     def make_val_string(number_of_records, params):\n",
    "#         fake_data = [eval(f\"fake.{item}()\") for _ in range(number_of_records) for item in params ]\n",
    "#         val_string = [tuple(fake_data[i:i+len(params)]) for i in range(0,len(fake_data),len(params))]\n",
    "        \n",
    "#         return val_string\n",
    "#     placeholder_string = str([(\"%s\", \"%s\") for _ in range(2)]).replace(\"[\",\"\").replace(\"]\", \"\").replace(\"'\", \"\")\n",
    "#     placeholder_string\n",
    "    def make_placeholder_string(number_of_records,params):\n",
    "        pass\n",
    "    \n",
    "\n",
    "    try:\n",
    "        fake = Faker()\n",
    "        fake_data = [eval(f\"fake.{item}()\") for _ in range(n) for item in params ]\n",
    "    except Exception as e:\n",
    "        print(e)\n",
    "\n",
    "    return fake_data"
   ]
  },
  {
   "cell_type": "code",
   "execution_count": 108,
   "metadata": {},
   "outputs": [
    {
     "data": {
      "text/plain": [
       "['__add__',\n",
       " '__class__',\n",
       " '__contains__',\n",
       " '__delattr__',\n",
       " '__dir__',\n",
       " '__doc__',\n",
       " '__eq__',\n",
       " '__format__',\n",
       " '__ge__',\n",
       " '__getattribute__',\n",
       " '__getitem__',\n",
       " '__getnewargs__',\n",
       " '__gt__',\n",
       " '__hash__',\n",
       " '__init__',\n",
       " '__init_subclass__',\n",
       " '__iter__',\n",
       " '__le__',\n",
       " '__len__',\n",
       " '__lt__',\n",
       " '__mod__',\n",
       " '__mul__',\n",
       " '__ne__',\n",
       " '__new__',\n",
       " '__reduce__',\n",
       " '__reduce_ex__',\n",
       " '__repr__',\n",
       " '__rmod__',\n",
       " '__rmul__',\n",
       " '__setattr__',\n",
       " '__sizeof__',\n",
       " '__str__',\n",
       " '__subclasshook__',\n",
       " 'capitalize',\n",
       " 'casefold',\n",
       " 'center',\n",
       " 'count',\n",
       " 'encode',\n",
       " 'endswith',\n",
       " 'expandtabs',\n",
       " 'find',\n",
       " 'format',\n",
       " 'format_map',\n",
       " 'index',\n",
       " 'isalnum',\n",
       " 'isalpha',\n",
       " 'isascii',\n",
       " 'isdecimal',\n",
       " 'isdigit',\n",
       " 'isidentifier',\n",
       " 'islower',\n",
       " 'isnumeric',\n",
       " 'isprintable',\n",
       " 'isspace',\n",
       " 'istitle',\n",
       " 'isupper',\n",
       " 'join',\n",
       " 'ljust',\n",
       " 'lower',\n",
       " 'lstrip',\n",
       " 'maketrans',\n",
       " 'partition',\n",
       " 'replace',\n",
       " 'rfind',\n",
       " 'rindex',\n",
       " 'rjust',\n",
       " 'rpartition',\n",
       " 'rsplit',\n",
       " 'rstrip',\n",
       " 'split',\n",
       " 'splitlines',\n",
       " 'startswith',\n",
       " 'strip',\n",
       " 'swapcase',\n",
       " 'title',\n",
       " 'translate',\n",
       " 'upper',\n",
       " 'zfill']"
      ]
     },
     "execution_count": 108,
     "metadata": {},
     "output_type": "execute_result"
    }
   ],
   "source": [
    "dir(str)"
   ]
  },
  {
   "cell_type": "code",
   "execution_count": 113,
   "metadata": {},
   "outputs": [
    {
     "data": {
      "text/plain": [
       "\u001b[0;31mSignature:\u001b[0m \u001b[0mstr\u001b[0m\u001b[0;34m.\u001b[0m\u001b[0mpartition\u001b[0m\u001b[0;34m(\u001b[0m\u001b[0mself\u001b[0m\u001b[0;34m,\u001b[0m \u001b[0msep\u001b[0m\u001b[0;34m,\u001b[0m \u001b[0;34m/\u001b[0m\u001b[0;34m)\u001b[0m\u001b[0;34m\u001b[0m\u001b[0;34m\u001b[0m\u001b[0m\n",
       "\u001b[0;31mDocstring:\u001b[0m\n",
       "Partition the string into three parts using the given separator.\n",
       "\n",
       "This will search for the separator in the string.  If the separator is found,\n",
       "returns a 3-tuple containing the part before the separator, the separator\n",
       "itself, and the part after it.\n",
       "\n",
       "If the separator is not found, returns a 3-tuple containing the original string\n",
       "and two empty strings.\n",
       "\u001b[0;31mType:\u001b[0m      method_descriptor\n"
      ]
     },
     "metadata": {},
     "output_type": "display_data"
    }
   ],
   "source": [
    "str.partition??"
   ]
  },
  {
   "cell_type": "code",
   "execution_count": 104,
   "metadata": {},
   "outputs": [
    {
     "data": {
      "text/plain": [
       "['Linda Curtis',\n",
       " 'milleremma@larsen.com',\n",
       " 'Bailey Gonzales',\n",
       " 'thompsonthomas@gmail.com']"
      ]
     },
     "execution_count": 104,
     "metadata": {},
     "output_type": "execute_result"
    }
   ],
   "source": [
    "output_tuple, output_list = make_fake_data(n=2, params=['name', 'email'])\n",
    "output_list"
   ]
  },
  {
   "cell_type": "code",
   "execution_count": null,
   "metadata": {},
   "outputs": [],
   "source": []
  },
  {
   "cell_type": "code",
   "execution_count": 105,
   "metadata": {},
   "outputs": [],
   "source": [
    "cur.execute(query.format(placeholder_string), output_list )"
   ]
  },
  {
   "cell_type": "code",
   "execution_count": 107,
   "metadata": {},
   "outputs": [
    {
     "data": {
      "text/plain": [
       "[(1, 'Scott Moore', 'lramos@hotmail.com'),\n",
       " (2, 'Jacob Martin', 'joseph12@yahoo.com'),\n",
       " (3, 'Robert Young', 'mjohnson@gmail.com'),\n",
       " (4, 'Nicole Moore', 'chrisanderson@hill.net'),\n",
       " (5, 'Linda Curtis', 'milleremma@larsen.com'),\n",
       " (6, 'Bailey Gonzales', 'thompsonthomas@gmail.com')]"
      ]
     },
     "execution_count": 107,
     "metadata": {},
     "output_type": "execute_result"
    }
   ],
   "source": [
    "cur.execute(\"SELECT * FROM psycopg_test\")\n",
    "cur.fetchall()"
   ]
  },
  {
   "cell_type": "code",
   "execution_count": null,
   "metadata": {},
   "outputs": [],
   "source": []
  },
  {
   "cell_type": "code",
   "execution_count": null,
   "metadata": {},
   "outputs": [],
   "source": [
    "placeholder_string = str([(\"%s\", \"%s\") for _ in range(2)]).replace(\"[\",\"\").replace(\"]\", \"\").replace(\"'\", \"\")\n",
    "placeholder_string"
   ]
  }
 ],
 "metadata": {
  "kernelspec": {
   "display_name": "Python 3",
   "language": "python",
   "name": "python3"
  },
  "language_info": {
   "codemirror_mode": {
    "name": "ipython",
    "version": 3
   },
   "file_extension": ".py",
   "mimetype": "text/x-python",
   "name": "python",
   "nbconvert_exporter": "python",
   "pygments_lexer": "ipython3",
   "version": "3.8.6"
  }
 },
 "nbformat": 4,
 "nbformat_minor": 4
}
