{
 "cells": [
  {
   "cell_type": "code",
   "execution_count": null,
   "metadata": {},
   "outputs": [],
   "source": [
    "# !conda update conda -y\n",
    "# !conda update conda -y\n",
    "# !conda install psycopg2 -y"
   ]
  },
  {
   "cell_type": "code",
   "execution_count": null,
   "metadata": {},
   "outputs": [],
   "source": [
    "import psycopg2\n",
    "from psycopg2 import errorcodes, errors\n",
    "import os, sys, getpass"
   ]
  },
  {
   "cell_type": "code",
   "execution_count": null,
   "metadata": {},
   "outputs": [],
   "source": [
    "getpass.getuser()"
   ]
  },
  {
   "cell_type": "code",
   "execution_count": null,
   "metadata": {},
   "outputs": [],
   "source": [
    "conn = psycopg2.connect(database=\"jupyterdb\", user=getpass.getuser())\n"
   ]
  },
  {
   "cell_type": "code",
   "execution_count": null,
   "metadata": {},
   "outputs": [],
   "source": [
    "cur = conn.cursor()\n",
    "cur.execute(\"SELECT 1,2,3;\")\n",
    "conn.commit()\n",
    "cur.fetchall()"
   ]
  },
  {
   "cell_type": "markdown",
   "metadata": {},
   "source": [
    "Note: If you don't want to have **conn.commit()** everywhere in your code, set\n",
    "\n",
    "conn.autocommit = True"
   ]
  },
  {
   "cell_type": "code",
   "execution_count": null,
   "metadata": {},
   "outputs": [],
   "source": [
    "# let's cleanup\n",
    "cur.close(), conn.close()"
   ]
  },
  {
   "cell_type": "code",
   "execution_count": null,
   "metadata": {},
   "outputs": [],
   "source": []
  },
  {
   "cell_type": "code",
   "execution_count": null,
   "metadata": {},
   "outputs": [],
   "source": [
    "# what if we get the database name wrong?\n",
    "conn = psycopg2.connect(database=\"doesnotexist\", user=getpass.getuser())"
   ]
  },
  {
   "cell_type": "code",
   "execution_count": null,
   "metadata": {},
   "outputs": [],
   "source": []
  },
  {
   "cell_type": "code",
   "execution_count": null,
   "metadata": {},
   "outputs": [],
   "source": [
    "## let's catch the Operational Error for db does not exist now"
   ]
  },
  {
   "cell_type": "code",
   "execution_count": null,
   "metadata": {},
   "outputs": [],
   "source": [
    "def create_server_connection(database, user):\n",
    "    conn = None\n",
    "    try:\n",
    "        conn = psycopg2.connect(\n",
    "            database=database,\n",
    "            user=user,\n",
    "        )\n",
    "        print(f\"Connected to Database {database} successfully\")\n",
    "        \n",
    "    except Exception as e:\n",
    "        print(e)\n",
    "\n",
    "    return conn"
   ]
  },
  {
   "cell_type": "code",
   "execution_count": null,
   "metadata": {},
   "outputs": [],
   "source": [
    "conn = create_server_connection(database=\"doesnotexist\", user=getpass.getuser())"
   ]
  },
  {
   "cell_type": "code",
   "execution_count": null,
   "metadata": {},
   "outputs": [],
   "source": [
    "#let's make sure the create_server_connection can still connect normally\n",
    "\n",
    "conn = create_server_connection(database=\"jupyterdb\", user=getpass.getuser())\n",
    "cur = conn.cursor()\n",
    "cur.execute(\"SELECT 1,2,3,4,5;\")\n",
    "conn.commit()\n",
    "cur.fetchall()"
   ]
  },
  {
   "cell_type": "code",
   "execution_count": null,
   "metadata": {},
   "outputs": [],
   "source": [
    "# let's cleanup\n",
    "\n",
    "cur.close(), conn.close()"
   ]
  },
  {
   "cell_type": "code",
   "execution_count": null,
   "metadata": {},
   "outputs": [],
   "source": []
  },
  {
   "cell_type": "code",
   "execution_count": null,
   "metadata": {},
   "outputs": [],
   "source": [
    "# Let's check error handling on SQL statements\n",
    "\n",
    "conn = create_server_connection(database=\"jupyterdb\", user=getpass.getuser())\n",
    "\n",
    "#the context manager will close the cursor when it exists. \n",
    "# GOTCHA: YOU MUST CLOSE THE CONNECTION EXPLICITLY (context manager does not close the conn)\n",
    "\n",
    "with conn.cursor() as cursor:\n",
    "    try:\n",
    "        cursor.execute(\"SELECT * FROM NOTABLE;\")\n",
    "        conn.commit()\n",
    "    except Exception as e:\n",
    "        print(e)\n",
    "\n",
    "conn.close()\n"
   ]
  },
  {
   "cell_type": "code",
   "execution_count": null,
   "metadata": {},
   "outputs": [],
   "source": [
    "# let's write a create/drop database function "
   ]
  },
  {
   "cell_type": "code",
   "execution_count": null,
   "metadata": {},
   "outputs": [],
   "source": []
  },
  {
   "cell_type": "code",
   "execution_count": null,
   "metadata": {},
   "outputs": [],
   "source": [
    "def create_or_drop_database(conn, query):\n",
    "    autocommit = conn.autocommit #preserve the value of autocommit\n",
    "    conn.autocommit = True #MUST BE set to True since Postgresql cannot create a database in a transaction\n",
    "    with conn.cursor() as cur:\n",
    "        try:\n",
    "            cur.execute(query)\n",
    "            print(\"Database created/dropped successfully.\")\n",
    "        except Exception as e:\n",
    "            print(e)\n",
    "        finally:\n",
    "            #be a good citizen and put stuff back the way you found it\n",
    "            conn.autocommit = autocommit "
   ]
  },
  {
   "cell_type": "code",
   "execution_count": null,
   "metadata": {},
   "outputs": [],
   "source": [
    "q = \"CREATE DATABASE school4;\"\n",
    "\n",
    "conn = create_server_connection(database=\"jupyterdb\", user=getpass.getuser())\n",
    "create_or_drop_database(conn, q)\n",
    "conn.close()"
   ]
  },
  {
   "cell_type": "code",
   "execution_count": null,
   "metadata": {},
   "outputs": [],
   "source": []
  },
  {
   "cell_type": "code",
   "execution_count": null,
   "metadata": {},
   "outputs": [],
   "source": [
    "q = \"DROP DATABASE school4;\"\n",
    "\n",
    "conn = create_server_connection(database=\"jupyterdb\", user=getpass.getuser())\n",
    "create_or_drop_database(conn, q)\n",
    "conn.close()"
   ]
  },
  {
   "cell_type": "code",
   "execution_count": null,
   "metadata": {},
   "outputs": [],
   "source": []
  },
  {
   "cell_type": "code",
   "execution_count": null,
   "metadata": {},
   "outputs": [],
   "source": [
    "# let's write an execute query function\n",
    "# we want our function to return a cursor with the results\n",
    "\n",
    "def execute_query(conn, query):\n",
    "    autocommit = conn.autocommit #preserve the value of autocommit\n",
    "    conn.autocommit = True #MUST BE set to True since Postgresql cannot create a database in a transaction\n",
    "    cur = conn.cursor()\n",
    "    try:\n",
    "        cur.execute(query)\n",
    "        print(\"Query ran successfully.\")\n",
    "    except Exception as e:\n",
    "        print(e)\n",
    "    finally:\n",
    "        #be a good citizen and put stuff back the way you found it\n",
    "        conn.autocommit = autocommit \n",
    "    return cur\n"
   ]
  },
  {
   "cell_type": "code",
   "execution_count": null,
   "metadata": {},
   "outputs": [],
   "source": [
    "q = \"SELECT 1,2,3,4,5\"\n",
    "conn = create_server_connection(database=\"jupyterdb\", user=getpass.getuser())\n",
    "cur = execute_query(conn, q)\n",
    "print(cur.fetchall())\n",
    "cur.close()\n",
    "conn.close()"
   ]
  },
  {
   "cell_type": "code",
   "execution_count": null,
   "metadata": {},
   "outputs": [],
   "source": [
    "q = \"SELECT 1,2,3,4,5 FROM doesnotexist\"\n",
    "conn = create_server_connection(database=\"jupyterdb\", user=getpass.getuser())\n",
    "cur = execute_query(conn, q)\n",
    "cur.close()\n",
    "conn.close()"
   ]
  },
  {
   "cell_type": "code",
   "execution_count": null,
   "metadata": {},
   "outputs": [],
   "source": []
  },
  {
   "cell_type": "code",
   "execution_count": null,
   "metadata": {},
   "outputs": [],
   "source": []
  }
 ],
 "metadata": {
  "kernelspec": {
   "display_name": "Python 3",
   "language": "python",
   "name": "python3"
  },
  "language_info": {
   "codemirror_mode": {
    "name": "ipython",
    "version": 3
   },
   "file_extension": ".py",
   "mimetype": "text/x-python",
   "name": "python",
   "nbconvert_exporter": "python",
   "pygments_lexer": "ipython3",
   "version": "3.8.6"
  }
 },
 "nbformat": 4,
 "nbformat_minor": 4
}
