{
 "cells": [
  {
   "cell_type": "markdown",
   "metadata": {},
   "source": [
    "https://www.psycopg.org/docs/usage.html#the-problem-with-the-query-parameters\n",
    "\n",
    "https://www.psycopg.org/docs/sql.html\n",
    "psycopg2.sql – SQL string composition¶\n",
    "New in version 2.7."
   ]
  },
  {
   "cell_type": "code",
   "execution_count": 2,
   "metadata": {},
   "outputs": [],
   "source": [
    "import psycopg2\n",
    "import os, getpass\n",
    "from psycopg2.sql import SQL, Identifier\n"
   ]
  },
  {
   "cell_type": "code",
   "execution_count": 3,
   "metadata": {},
   "outputs": [],
   "source": [
    "def create_server_connection(database, user):\n",
    "    conn = None\n",
    "    try:\n",
    "        conn = psycopg2.connect(\n",
    "            database=database,\n",
    "            user=user,\n",
    "        )\n",
    "        print(f\"Connected to Database {database} successfully\")\n",
    "        \n",
    "    except Exception as e:\n",
    "        print(e)\n",
    "\n",
    "    return conn"
   ]
  },
  {
   "cell_type": "code",
   "execution_count": 4,
   "metadata": {},
   "outputs": [],
   "source": [
    "def create_or_drop_database(conn, query):\n",
    "    autocommit = conn.autocommit #preserve the value of autocommit\n",
    "    conn.autocommit = True #MUST BE set to True since Postgresql cannot create a database in a transaction\n",
    "    with conn.cursor() as cur:\n",
    "        try:\n",
    "            cur.execute(query)\n",
    "            print(f\"Query: {query} ran successfully.\")\n",
    "        except Exception as e:\n",
    "            print(e)\n",
    "        finally:\n",
    "            #be a good citizen and put stuff back the way you found it\n",
    "            conn.autocommit = autocommit "
   ]
  },
  {
   "cell_type": "code",
   "execution_count": 5,
   "metadata": {},
   "outputs": [],
   "source": [
    "#version 2\n",
    "def execute_query(conn, query):\n",
    "    autocommit = conn.autocommit #preserve the value of autocommit\n",
    "    conn.autocommit = True #MUST BE set to True since Postgresql cannot create a database in a transaction\n",
    "    cur = conn.cursor()\n",
    "    try:\n",
    "        cur.execute(query)\n",
    "        print(f\"Query: {query}ran successfully.\")\n",
    "    except Exception as e:\n",
    "        print(e)\n",
    "    finally:\n",
    "        #be a good citizen and put stuff back the way you found it\n",
    "        conn.autocommit = autocommit \n",
    "    return cur"
   ]
  },
  {
   "cell_type": "code",
   "execution_count": 6,
   "metadata": {},
   "outputs": [
    {
     "name": "stdout",
     "output_type": "stream",
     "text": [
      "Connected to Database jupyterdb successfully\n"
     ]
    }
   ],
   "source": [
    "db, user = \"jupyterdb\", getpass.getuser()\n",
    "conn = create_server_connection(db,user)"
   ]
  },
  {
   "cell_type": "code",
   "execution_count": 7,
   "metadata": {},
   "outputs": [],
   "source": [
    "conn.autocommit = True"
   ]
  },
  {
   "cell_type": "code",
   "execution_count": 8,
   "metadata": {},
   "outputs": [],
   "source": [
    "# let's create an authors table in our database"
   ]
  },
  {
   "cell_type": "code",
   "execution_count": 9,
   "metadata": {},
   "outputs": [
    {
     "name": "stdout",
     "output_type": "stream",
     "text": [
      "Query: \n",
      "DROP TABLE IF EXISTS author;\n",
      "\n",
      "CREATE TABLE author(\n",
      "name text,\n",
      "email text\n",
      ");\n",
      "ran successfully.\n"
     ]
    }
   ],
   "source": [
    "query = \"\"\"\n",
    "DROP TABLE IF EXISTS author;\n",
    "\n",
    "CREATE TABLE author(\n",
    "name text,\n",
    "email text\n",
    ");\n",
    "\"\"\"\n",
    "cur = execute_query(conn, query)\n",
    "cur.close()"
   ]
  },
  {
   "cell_type": "code",
   "execution_count": null,
   "metadata": {},
   "outputs": [],
   "source": []
  },
  {
   "cell_type": "code",
   "execution_count": null,
   "metadata": {},
   "outputs": [],
   "source": []
  },
  {
   "cell_type": "code",
   "execution_count": 18,
   "metadata": {},
   "outputs": [],
   "source": [
    "query = \"INSERT INTO author (name) VALUES (%s);\"\n",
    "data = \"not-me\",  # gotcha: the data argument which is substituted into %s *MUST* BE AN ITERABLE. Tuple used here!\n",
    "cur = conn.cursor()\n",
    "cur.execute(query, data) #passing two arguments to cur.execute()!\n",
    "cur.close()"
   ]
  },
  {
   "cell_type": "markdown",
   "metadata": {},
   "source": [
    "NOTE: THE ONLY FORMAT STRING IS %s \n",
    "    \n",
    "IT WORKS FOR ALL DATA TYPES!!!!!!!!!!!!!!!!!!!"
   ]
  },
  {
   "cell_type": "code",
   "execution_count": 19,
   "metadata": {},
   "outputs": [
    {
     "name": "stdout",
     "output_type": "stream",
     "text": [
      "[('me', None), ('John Donne', 'death@benotproud.com'), ('Octavia Butler', 'kindred@thefutureisnow.com'), ('Alfred Neuman', 'whatmeworry@worryfree.com'), ('not-me', None)]\n"
     ]
    }
   ],
   "source": [
    "query = \"SELECT * FROM author;\"\n",
    "cur = conn.cursor()\n",
    "cur.execute(query) #passing one argument to cur.execute()!\n",
    "print(cur.fetchall())\n",
    "cur.close()"
   ]
  },
  {
   "cell_type": "code",
   "execution_count": 14,
   "metadata": {},
   "outputs": [],
   "source": [
    "query = \"INSERT INTO author (name, email) VALUES (%s, %s);\"\n",
    "data = (\"John Donne\", \"death@benotproud.com\") #any iterable is fine. using tuple here\n",
    "cur = conn.cursor()\n",
    "cur.execute(query, data) #passing two arguments to cur.execute()!\n",
    "cur.close()"
   ]
  },
  {
   "cell_type": "code",
   "execution_count": 15,
   "metadata": {},
   "outputs": [
    {
     "name": "stdout",
     "output_type": "stream",
     "text": [
      "[('me', None), ('John Donne', 'death@benotproud.com')]\n"
     ]
    }
   ],
   "source": [
    "query = \"SELECT * FROM author;\"\n",
    "cur = conn.cursor()\n",
    "cur.execute(query) #passing one argument to cur.execute()!\n",
    "print(cur.fetchall())\n",
    "cur.close()"
   ]
  },
  {
   "cell_type": "code",
   "execution_count": 16,
   "metadata": {},
   "outputs": [],
   "source": [
    "query = \"INSERT INTO author (name, email) VALUES (%s, %s), (%s,%s);\"\n",
    "data = [\"Octavia Butler\", \"kindred@thefutureisnow.com\", \"Alfred Neuman\", \"whatmeworry@worryfree.com\"] #any iterable is fine. using list here\n",
    "cur = conn.cursor()\n",
    "cur.execute(query, data) #passing two arguments to cur.execute()!\n",
    "cur.close()"
   ]
  },
  {
   "cell_type": "code",
   "execution_count": 17,
   "metadata": {},
   "outputs": [
    {
     "name": "stdout",
     "output_type": "stream",
     "text": [
      "[('me', None), ('John Donne', 'death@benotproud.com'), ('Octavia Butler', 'kindred@thefutureisnow.com'), ('Alfred Neuman', 'whatmeworry@worryfree.com')]\n"
     ]
    }
   ],
   "source": [
    "query = \"SELECT * FROM author;\"\n",
    "cur = conn.cursor()\n",
    "cur.execute(query)\n",
    "print(cur.fetchall())\n",
    "cur.close()"
   ]
  },
  {
   "cell_type": "code",
   "execution_count": null,
   "metadata": {},
   "outputs": [],
   "source": []
  },
  {
   "cell_type": "code",
   "execution_count": null,
   "metadata": {},
   "outputs": [],
   "source": [
    "#now let's change our execute_query to use data in the second argument of cur.execute()"
   ]
  },
  {
   "cell_type": "code",
   "execution_count": 20,
   "metadata": {},
   "outputs": [],
   "source": [
    "#version 5\n",
    "def execute_query(conn, *query):\n",
    "    try:\n",
    "        autocommit = conn.autocommit #preserve the value of autocommit\n",
    "        conn.autocommit = True\n",
    "        cur = conn.cursor()\n",
    "        \n",
    "        if len(query) == 2:\n",
    "            cur.execute(*query)\n",
    "            print(f\"Query: {query[0]} with data:{query[1]} ran successfully.\")\n",
    "        else:\n",
    "            cur.execute(query[0])\n",
    "            print(f\"Query: {query[0]} ran successfully.\")\n",
    "    \n",
    "    except Exception as e:\n",
    "        print(e)\n",
    "    finally:\n",
    "        #put stuff back the way you found it\n",
    "        conn.autocommit = autocommit \n",
    "    return cur"
   ]
  },
  {
   "cell_type": "code",
   "execution_count": 22,
   "metadata": {},
   "outputs": [
    {
     "name": "stdout",
     "output_type": "stream",
     "text": [
      "Query: INSERT INTO author (name, email) VALUES (%s, %s); with data:('Mark Haddon', 'curious@dog.com') ran successfully.\n"
     ]
    }
   ],
   "source": [
    "query = \"INSERT INTO author (name, email) VALUES (%s, %s);\"\n",
    "data = \"Mark Haddon\", \"curious@dog.com\"\n",
    "cur = execute_query(conn, query, data)\n",
    "cur.close()"
   ]
  },
  {
   "cell_type": "code",
   "execution_count": 23,
   "metadata": {},
   "outputs": [
    {
     "name": "stdout",
     "output_type": "stream",
     "text": [
      "[('me', None), ('John Donne', 'death@benotproud.com'), ('Octavia Butler', 'kindred@thefutureisnow.com'), ('Alfred Neuman', 'whatmeworry@worryfree.com'), ('not-me', None), ('Mark Haddon', 'curious@dog.com')]\n"
     ]
    }
   ],
   "source": [
    "query = \"SELECT * FROM author;\"\n",
    "cur = conn.cursor()\n",
    "cur.execute(query)\n",
    "print(cur.fetchall())\n",
    "cur.close()"
   ]
  },
  {
   "cell_type": "code",
   "execution_count": null,
   "metadata": {},
   "outputs": [],
   "source": []
  },
  {
   "cell_type": "markdown",
   "metadata": {},
   "source": [
    "Let's dive deeper into string composition with the psycopg2.sql module"
   ]
  },
  {
   "cell_type": "markdown",
   "metadata": {},
   "source": [
    "psycopg2.sql – SQL string composition\n",
    "\n",
    "The module contains objects and functions useful to generate SQL dynamically, in a convenient and safe way. SQL identifiers (e.g. names of tables and fields) cannot be passed to the execute() method like query arguments:"
   ]
  },
  {
   "cell_type": "code",
   "execution_count": 24,
   "metadata": {},
   "outputs": [
    {
     "ename": "SyntaxError",
     "evalue": "syntax error at or near \"'author'\"\nLINE 1: INSERT INTO 'author' VALUES ('bret easton ellis', 'psycho@am...\n                    ^\n",
     "output_type": "error",
     "traceback": [
      "\u001b[0;31m---------------------------------------------------------------------------\u001b[0m",
      "\u001b[0;31mSyntaxError\u001b[0m                               Traceback (most recent call last)",
      "\u001b[0;32m<ipython-input-24-b7bfd9a79395>\u001b[0m in \u001b[0;36m<module>\u001b[0;34m\u001b[0m\n\u001b[1;32m      3\u001b[0m \u001b[0mquery\u001b[0m \u001b[0;34m=\u001b[0m \u001b[0;34m\"INSERT INTO %s VALUES (%s, %s)\"\u001b[0m\u001b[0;34m\u001b[0m\u001b[0;34m\u001b[0m\u001b[0m\n\u001b[1;32m      4\u001b[0m \u001b[0mdata\u001b[0m \u001b[0;34m=\u001b[0m \u001b[0;34m[\u001b[0m\u001b[0;34m'author'\u001b[0m\u001b[0;34m,\u001b[0m \u001b[0;34m'bret easton ellis'\u001b[0m\u001b[0;34m,\u001b[0m \u001b[0;34m\"psycho@americanpsycho.com\"\u001b[0m\u001b[0;34m]\u001b[0m\u001b[0;34m\u001b[0m\u001b[0;34m\u001b[0m\u001b[0m\n\u001b[0;32m----> 5\u001b[0;31m \u001b[0mcur\u001b[0m\u001b[0;34m.\u001b[0m\u001b[0mexecute\u001b[0m\u001b[0;34m(\u001b[0m\u001b[0mquery\u001b[0m\u001b[0;34m,\u001b[0m \u001b[0mdata\u001b[0m\u001b[0;34m)\u001b[0m\u001b[0;34m\u001b[0m\u001b[0;34m\u001b[0m\u001b[0m\n\u001b[0m\u001b[1;32m      6\u001b[0m \u001b[0mcur\u001b[0m\u001b[0;34m.\u001b[0m\u001b[0mclose\u001b[0m\u001b[0;34m(\u001b[0m\u001b[0;34m)\u001b[0m\u001b[0;34m\u001b[0m\u001b[0;34m\u001b[0m\u001b[0m\n",
      "\u001b[0;31mSyntaxError\u001b[0m: syntax error at or near \"'author'\"\nLINE 1: INSERT INTO 'author' VALUES ('bret easton ellis', 'psycho@am...\n                    ^\n"
     ]
    }
   ],
   "source": [
    "# This will not work because you cannot interpolate table and field names like other data\n",
    "cur = conn.cursor()\n",
    "\n",
    "query = \"INSERT INTO %s VALUES (%s, %s)\"\n",
    "data = ['author', 'bret easton ellis', \"psycho@americanpsycho.com\"] #tries to insert table name 'author' into the data. #WRONG\n",
    "cur.execute(query, data)\n",
    "\n",
    "cur.close()"
   ]
  },
  {
   "cell_type": "code",
   "execution_count": null,
   "metadata": {},
   "outputs": [],
   "source": []
  },
  {
   "cell_type": "code",
   "execution_count": 25,
   "metadata": {},
   "outputs": [],
   "source": [
    "# This is the correct way\n",
    "# we need to use sql.SQL and sql.Identifier insert the table name\n",
    "# the data stays the same as previous insertions we've done\n",
    "\n",
    "from psycopg2 import sql\n",
    "cur = conn.cursor()\n",
    "\n",
    "query = sql.SQL(\"INSERT INTO {} VALUES (%s, %s)\").format(sql.Identifier('author'))\n",
    "data = ['bret easton ellis', \"psychokiller@americanpsycho.com\"]\n",
    "cur.execute(query, data)\n",
    "\n",
    "cur.close()"
   ]
  },
  {
   "cell_type": "code",
   "execution_count": 26,
   "metadata": {},
   "outputs": [
    {
     "name": "stdout",
     "output_type": "stream",
     "text": [
      "[('me', None), ('John Donne', 'death@benotproud.com'), ('Octavia Butler', 'kindred@thefutureisnow.com'), ('Alfred Neuman', 'whatmeworry@worryfree.com'), ('not-me', None), ('Mark Haddon', 'curious@dog.com'), ('bret easton ellis', 'psycho@americanpsycho.com')]\n"
     ]
    }
   ],
   "source": [
    "# IT WORKED!!!!\n",
    "query = \"SELECT * FROM author;\"\n",
    "cur = conn.cursor()\n",
    "cur.execute(query)\n",
    "print(cur.fetchall())\n",
    "cur.close()"
   ]
  },
  {
   "cell_type": "code",
   "execution_count": null,
   "metadata": {},
   "outputs": [],
   "source": []
  },
  {
   "cell_type": "code",
   "execution_count": null,
   "metadata": {},
   "outputs": [],
   "source": [
    "#so, let's dissect the insertion query string a bit"
   ]
  },
  {
   "cell_type": "markdown",
   "metadata": {},
   "source": [
    "1) use the sql.SQL() function, just like you'd use str.format()\n",
    "2) inside the argument of format, pass the table name inside sql.Identifier\n",
    "3) pass the data in the second argument of cur.execute as normal\n",
    "\n",
    "query = sql.SQL(\"INSERT INTO {} VALUES (%s, %s)\").format(sql.Identifier('author'))\n",
    "data = ['bret easton ellis', \"psychokiller@americanpsycho.com\"]\n"
   ]
  },
  {
   "cell_type": "code",
   "execution_count": 27,
   "metadata": {},
   "outputs": [
    {
     "data": {
      "text/plain": [
       "Identifier('author')"
      ]
     },
     "execution_count": 27,
     "metadata": {},
     "output_type": "execute_result"
    }
   ],
   "source": [
    "sql.Identifier('author')"
   ]
  },
  {
   "cell_type": "code",
   "execution_count": 30,
   "metadata": {},
   "outputs": [
    {
     "data": {
      "text/plain": [
       "Composed([SQL('INSERT INTO '), Identifier('author'), SQL(' VALUES (%s, %s)')])"
      ]
     },
     "execution_count": 30,
     "metadata": {},
     "output_type": "execute_result"
    }
   ],
   "source": [
    "query = sql.SQL(\"INSERT INTO {} VALUES (%s, %s)\").format(sql.Identifier('author'))\n",
    "query"
   ]
  },
  {
   "cell_type": "markdown",
   "metadata": {},
   "source": [
    "Notice that our query is now a Composed object that has all the pieces we need to run the query, and we are safe from potential sql injection!"
   ]
  },
  {
   "cell_type": "code",
   "execution_count": null,
   "metadata": {},
   "outputs": [],
   "source": []
  },
  {
   "cell_type": "code",
   "execution_count": 31,
   "metadata": {},
   "outputs": [
    {
     "data": {
      "text/plain": [
       "['Composable',\n",
       " 'Composed',\n",
       " 'DEFAULT',\n",
       " 'Identifier',\n",
       " 'Literal',\n",
       " 'NULL',\n",
       " 'PY3',\n",
       " 'Placeholder',\n",
       " 'SQL',\n",
       " '__builtins__',\n",
       " '__cached__',\n",
       " '__doc__',\n",
       " '__file__',\n",
       " '__loader__',\n",
       " '__name__',\n",
       " '__package__',\n",
       " '__spec__',\n",
       " '_formatter',\n",
       " 'ext',\n",
       " 'string',\n",
       " 'string_types']"
      ]
     },
     "execution_count": 31,
     "metadata": {},
     "output_type": "execute_result"
    }
   ],
   "source": [
    "dir(sql) \n",
    "'''# there are \n",
    "'Composable', \n",
    "'Composed', \n",
    "'DEFAULT',\n",
    "'Identifier', \n",
    "'Literal',\n",
    "'NULL', \n",
    "'Placeholder', and \n",
    "'SQL' objects in the sql module\n",
    "'''"
   ]
  },
  {
   "cell_type": "code",
   "execution_count": null,
   "metadata": {},
   "outputs": [],
   "source": []
  },
  {
   "cell_type": "code",
   "execution_count": null,
   "metadata": {},
   "outputs": [],
   "source": []
  },
  {
   "cell_type": "code",
   "execution_count": null,
   "metadata": {},
   "outputs": [],
   "source": [
    "db, user = \"jupyterdb\", getpass.getuser()\n",
    "conn = create_server_connection(db,user)"
   ]
  },
  {
   "cell_type": "code",
   "execution_count": null,
   "metadata": {},
   "outputs": [],
   "source": [
    "query = \"\"\"\n",
    "DROP TABLE IF EXISTS author;\n",
    "\n",
    "CREATE TABLE author(\n",
    "name text,\n",
    "email text\n",
    ");\n",
    "\"\"\"\n",
    "cur = execute_query(conn, query)\n",
    "cur.close()"
   ]
  },
  {
   "cell_type": "code",
   "execution_count": null,
   "metadata": {},
   "outputs": [],
   "source": [
    "query, data = sql.SQL(\"INSERT INTO {} VALUES (%s, %s)\").format(sql.Identifier('author')), [\"edgar allan poe\",\"raven1845@gmail.com\" ]\n",
    "cur = execute_query(conn, query, data)\n",
    "cur.close()"
   ]
  },
  {
   "cell_type": "code",
   "execution_count": null,
   "metadata": {},
   "outputs": [],
   "source": [
    "query = \"SELECT * FROM author;\"\n",
    "cur = execute_query(conn, query)\n",
    "cur.fetchall()\n",
    "cur.close()"
   ]
  },
  {
   "cell_type": "code",
   "execution_count": null,
   "metadata": {},
   "outputs": [],
   "source": []
  },
  {
   "cell_type": "code",
   "execution_count": null,
   "metadata": {},
   "outputs": [],
   "source": []
  },
  {
   "cell_type": "code",
   "execution_count": null,
   "metadata": {},
   "outputs": [],
   "source": []
  },
  {
   "cell_type": "code",
   "execution_count": null,
   "metadata": {},
   "outputs": [],
   "source": []
  },
  {
   "cell_type": "code",
   "execution_count": null,
   "metadata": {},
   "outputs": [],
   "source": []
  },
  {
   "cell_type": "code",
   "execution_count": null,
   "metadata": {},
   "outputs": [],
   "source": [
    "Values containing backslashes and LIKE\n",
    "Unlike in Python, the backslash (\\) is not used as an escape character except in patterns used with LIKE and ILIKE where they are needed to escape the % and _ characters.\n",
    "\n",
    "This can lead to confusing situations:\n",
    "\n",
    ">>> path = r'C:\\Users\\Bobby.Tables'\n",
    ">>> cur.execute('INSERT INTO mytable(path) VALUES (%s)', (path,))\n",
    ">>> cur.execute('SELECT * FROM mytable WHERE path LIKE %s', (path,))\n",
    ">>> cur.fetchall()\n",
    "[]\n",
    "The solution is to specify an ESCAPE character of '' (empty string) in your LIKE query:\n",
    "\n",
    ">>> cur.execute(\"SELECT * FROM mytable WHERE path LIKE %s ESCAPE ''\", (path,))"
   ]
  }
 ],
 "metadata": {
  "kernelspec": {
   "display_name": "Python 3",
   "language": "python",
   "name": "python3"
  },
  "language_info": {
   "codemirror_mode": {
    "name": "ipython",
    "version": 3
   },
   "file_extension": ".py",
   "mimetype": "text/x-python",
   "name": "python",
   "nbconvert_exporter": "python",
   "pygments_lexer": "ipython3",
   "version": "3.8.6"
  }
 },
 "nbformat": 4,
 "nbformat_minor": 4
}
