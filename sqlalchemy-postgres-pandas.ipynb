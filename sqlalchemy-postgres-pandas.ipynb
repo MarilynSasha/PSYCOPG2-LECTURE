{
 "cells": [
  {
   "cell_type": "markdown",
   "metadata": {},
   "source": [
    "https://www.sqlshack.com/introduction-to-sqlalchemy-in-pandas-dataframe/"
   ]
  },
  {
   "cell_type": "markdown",
   "metadata": {},
   "source": [
    "https://hackingandslacking.com/connecting-pandas-to-a-database-with-sqlalchemy-b6a187675c4a"
   ]
  },
  {
   "cell_type": "markdown",
   "metadata": {},
   "source": [
    "https://hackersandslackers.com/connecting-pandas-to-a-sql-database-with-sqlalchemy/"
   ]
  },
  {
   "cell_type": "markdown",
   "metadata": {},
   "source": [
    "https://pythontic.com/pandas/serialization/postgresql"
   ]
  },
  {
   "cell_type": "markdown",
   "metadata": {},
   "source": [
    "https://gist.github.com/kunanit/eb0723eef653788395bb41c661c1fa86"
   ]
  },
  {
   "cell_type": "markdown",
   "metadata": {},
   "source": [
    "https://www.codementor.io/@bruce3557/graceful-data-ingestion-with-sqlalchemy-and-pandas-pft7ddcy6"
   ]
  },
  {
   "cell_type": "markdown",
   "metadata": {},
   "source": [
    "https://naysan.ca/2020/05/09/pandas-to-postgresql-using-psycopg2-bulk-insert-performance-benchmark/"
   ]
  },
  {
   "cell_type": "markdown",
   "metadata": {},
   "source": [
    "https://github.com/NaysanSaran/pandas2postgresql"
   ]
  },
  {
   "cell_type": "markdown",
   "metadata": {},
   "source": [
    "https://gist.github.com/kunanit/eb0723eef653788395bb41c661c1fa86"
   ]
  },
  {
   "cell_type": "markdown",
   "metadata": {},
   "source": [
    "## THE BELOW IS VERY IMPORTANT"
   ]
  },
  {
   "cell_type": "markdown",
   "metadata": {},
   "source": [
    "https://stackoverflow.com/questions/8134602/psycopg2-insert-multiple-rows-with-one-query"
   ]
  },
  {
   "cell_type": "markdown",
   "metadata": {},
   "source": [
    "https://www.psycopg.org/docs/extras.html#psycopg2.extras.execute_values"
   ]
  },
  {
   "cell_type": "code",
   "execution_count": null,
   "metadata": {},
   "outputs": [],
   "source": []
  },
  {
   "cell_type": "code",
   "execution_count": null,
   "metadata": {},
   "outputs": [],
   "source": [
    "# New execute_values method in Psycopg 2.7:\n",
    "\n",
    "# data = [(1,'x'), (2,'y')]\n",
    "# insert_query = 'insert into t (a, b) values %s'\n",
    "# psycopg2.extras.execute_values (\n",
    "#     cursor, insert_query, data, template=None, page_size=100\n",
    "# )"
   ]
  },
  {
   "cell_type": "code",
   "execution_count": 4,
   "metadata": {},
   "outputs": [],
   "source": [
    "# https://gist.github.com/jsheedy/ed81cdf18190183b3b7d\n",
    "import io\n",
    "import sys\n",
    "\n",
    "class IteratorFile(io.TextIOBase):\n",
    "    \"\"\" given an iterator which yields strings,\n",
    "    return a file like object for reading those strings \"\"\"\n",
    "\n",
    "    def __init__(self, it):\n",
    "        self._it = it\n",
    "        self._f = io.StringIO()\n",
    "\n",
    "    def read(self, length=sys.maxsize):\n",
    "\n",
    "        try:\n",
    "            while self._f.tell() < length:\n",
    "                self._f.write(next(self._it) + \"\\n\")\n",
    "                \n",
    "        except StopIteration as e:\n",
    "            # soak up StopIteration. this block is not necessary because\n",
    "            # of finally, but just to be explicit\n",
    "            pass\n",
    "\n",
    "        except Exception as e:\n",
    "            print(\"uncaught exception: {}\".format(e))\n",
    "            \n",
    "        finally:\n",
    "            self._f.seek(0)\n",
    "            data = self._f.read(length)\n",
    "\n",
    "            # save the remainder for next read\n",
    "            remainder = self._f.read()\n",
    "            self._f.seek(0)\n",
    "            self._f.truncate(0)\n",
    "            self._f.write(remainder)\n",
    "            return data\n",
    "\n",
    "    def readline(self):\n",
    "        return next(self._it)"
   ]
  },
  {
   "cell_type": "code",
   "execution_count": null,
   "metadata": {},
   "outputs": [],
   "source": [
    "# usage\n",
    "args = [(1,2), (3,4), (5,6)]\n",
    "f = IteratorFile((\"{}\\t{}\".format(x[0], x[1]) for x in args))\n",
    "cursor.copy_from(f, 'table_name', columns=('a', 'b'))\n",
    "\n"
   ]
  },
  {
   "cell_type": "markdown",
   "metadata": {},
   "source": [
    "https://www.psycopg.org/docs/cursor.html#cursor.copy_from"
   ]
  },
  {
   "cell_type": "code",
   "execution_count": null,
   "metadata": {},
   "outputs": [],
   "source": []
  }
 ],
 "metadata": {
  "kernelspec": {
   "display_name": "Python 3",
   "language": "python",
   "name": "python3"
  },
  "language_info": {
   "codemirror_mode": {
    "name": "ipython",
    "version": 3
   },
   "file_extension": ".py",
   "mimetype": "text/x-python",
   "name": "python",
   "nbconvert_exporter": "python",
   "pygments_lexer": "ipython3",
   "version": "3.8.6"
  }
 },
 "nbformat": 4,
 "nbformat_minor": 4
}
